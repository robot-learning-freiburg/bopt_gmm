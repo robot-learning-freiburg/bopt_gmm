{
 "cells": [
  {
   "cell_type": "code",
   "execution_count": 1,
   "metadata": {},
   "outputs": [],
   "source": [
    "import pandas as pd\n",
    "import numpy  as np"
   ]
  },
  {
   "cell_type": "code",
   "execution_count": 55,
   "metadata": {},
   "outputs": [],
   "source": [
    "DF_PREFIX = 'door'\n",
    "df = pd.read_csv(f'plots/{DF_PREFIX}_stats.csv')"
   ]
  },
  {
   "cell_type": "code",
   "execution_count": 56,
   "metadata": {},
   "outputs": [
    {
     "name": "stdout",
     "output_type": "stream",
     "text": [
      "$k$ & Noise & Base & \\multicolumn{2}{c|}{$\\mu$} & \\multicolumn{2}{c|}{$\\Sigma$} & \\multicolumn{2}{c|}{$R_{XYZ}$} & \\multicolumn{2}{c}{$eig$} \\\\ \n",
      "$3$ & $0.00$ & $66.0$ & $73.4$ & $206$ & $77.0$ & $174$ & $75.0$ & $172$ & $79.1$ & $177$ \\\\ \n",
      "$3$ & $0.01$ & $45.0$ & $46.5$ & $187$ & $47.7$ & $182$ & $45.9$ & $176$ & $49.5$ & $188$ \\\\ \n",
      "$3$ & $0.02$ & $29.0$ & $\\color{red}{22.6}$ & $158$ & $\\color{red}{26.2}$ & $158$ & $\\color{red}{24.4}$ & $160$ & $\\color{red}{28.1}$ & $\\mathbf{156}$ \\\\ \n",
      "$3$ & $0.03$ & $16.0$ & $\\color{red}{12.9}$ & $174$ & $\\color{red}{14.7}$ & $169$ & $\\mathbf{15.1}$ & $169$ & $\\color{red}{14.3}$ & $168$ \\\\ \n",
      "$5$ & $0.00$ & $48.0$ & $74.4$ & $194$ & $79.6$ & $196$ & $78.2$ & $181$ & $80.9$ & $211$ \\\\ \n",
      "$5$ & $0.01$ & $51.0$ & $\\color{red}{49.5}$ & $208$ & $51.3$ & $224$ & $\\color{red}{50.2}$ & $221$ & $52.4$ & $226$ \\\\ \n",
      "$5$ & $0.02$ & $28.0$ & $\\color{red}{25.2}$ & $170$ & $\\color{red}{26.9}$ & $189$ & $\\color{red}{27.2}$ & $181$ & $\\color{red}{26.6}$ & $198$ \\\\ \n",
      "$5$ & $0.03$ & $15.0$ & $\\color{red}{12.5}$ & $176$ & $\\color{red}{13.9}$ & $178$ & $\\color{red}{13.0}$ & $182$ & $\\color{red}{14.8}$ & $175$ \\\\ \n",
      "$7$ & $0.00$ & $91.0$ & $\\color{red}{89.8}$ & $136$ & $91.1$ & $123$ & $\\color{red}{90.4}$ & $137$ & $\\mathbf{91.7}$ & $\\mathbf{108}$ \\\\ \n",
      "$7$ & $0.01$ & $42.0$ & $\\mathbf{59.4}$ & $179$ & $58.1$ & $186$ & $59.4$ & $211$ & $56.8$ & $\\mathbf{160}$ \\\\ \n",
      "$7$ & $0.02$ & $33.0$ & $\\mathbf{30.8}$ & $174$ & $\\color{red}{27.4}$ & $173$ & $\\color{red}{28.2}$ & $181$ & $\\color{red}{26.6}$ & $165$ \\\\ \n",
      "$7$ & $0.03$ & $14.0$ & $\\color{red}{13.8}$ & $141$ & $\\color{red}{13.6}$ & $146$ & $14.4$ & $\\mathbf{132}$ & $\\color{red}{12.8}$ & $160$\n"
     ]
    }
   ],
   "source": [
    "rows = ['$k$ & Noise & Base & \\multicolumn{2}{c|}{$\\mu$} & \\multicolumn{2}{c|}{$\\Sigma$} & \\multicolumn{2}{c|}{$R_{XYZ}$} & \\multicolumn{2}{c}{$eig$}']\n",
    "\n",
    "def format_value(val, max_val, base_val, numformat='3.1f'):\n",
    "    if val == max_val:\n",
    "        return '$\\mathbf{}{}{}$'.format('{', ('{:' + numformat + '}').format(val), '}')\n",
    "    elif val < base_val:\n",
    "        return '$\\color{}{}{}{}$'.format('{red}', '{', ('{:' + numformat + '}').format(val), '}')\n",
    "    return '${}$'.format(('{:' + numformat + '}').format(val))\n",
    "\n",
    "data_rows = []\n",
    "\n",
    "for n in sorted(df.noise.unique()):\n",
    "    # acc_max = np.mean([df[df.noise == n].accuracy.max() * 100\n",
    "\n",
    "    means = []\n",
    "    eps   = []\n",
    "    df_s  = df[(df.noise == n)]\n",
    "    for k in sorted(df_s.k.unique()):\n",
    "        df_s = df[(df.noise == n) & (df.k == k)]\n",
    "        mu_mean, mu_ep = df_s[df_s.mu    > 0].accuracy.mean() * 100, df_s[df_s.mu    > 0].mean_final.mean()\n",
    "        sigma_mean, sigma_ep = df_s[df_s.sigma > 0].accuracy.mean()  * 100, df_s[df_s.sigma > 0].mean_final.mean()\n",
    "        rot_mean, rot_ep = df_s[(df_s.sigma > 0) & (df_s.sigma_type == \"rotation\")].accuracy.mean() * 100, df_s[(df_s.sigma > 0) & (df_s.sigma_type == \"rotation\")].mean_final.mean()\n",
    "        eig_mean, eig_ep = df_s[(df_s.sigma > 0) & (df_s.sigma_type == \"eigen\")].accuracy.mean() * 100, df_s[(df_s.sigma > 0) & (df_s.sigma_type == \"eigen\")].mean_final.mean()\n",
    "\n",
    "        means.append([mu_mean, sigma_mean, rot_mean, eig_mean])\n",
    "        eps.append([mu_ep, sigma_ep, rot_ep, eig_ep])\n",
    "\n",
    "    ep_min  = np.min(eps)\n",
    "    acc_max = np.max(means)\n",
    "\n",
    "    for k, mean, ep in zip(sorted(df.k.unique()), means, eps):\n",
    "        # df_s = df[df.noise == n]\n",
    "        df_s = df[(df.noise == n) & (df.k == k)]\n",
    "\n",
    "        mu_mean, sigma_mean, rot_mean, eig_mean = mean\n",
    "        mu_ep, sigma_ep, rot_ep, eig_ep = ep\n",
    "\n",
    "        # base = df[df.noise == n].baseline.mean() * 100\n",
    "        local_base = df_s.baseline.mean() * 100\n",
    "        base = local_base\n",
    "        lamax = max(acc_max, base)\n",
    "\n",
    "        row  = [f'${k}$',\n",
    "                f'${n:1.2f}$',\n",
    "                format_value(base, lamax, base, '2.1f'),\n",
    "                # f'${df_s[df_s.omega > 0].accuracy.mean() * 100:3.1f}\\%$', f'${df_s[df_s.omega > 0].mean_final.mean():3.0f}$',\n",
    "                format_value(mu_mean, lamax, base, '3.1f'), format_value(mu_ep, ep_min, 0, '3.0f'),\n",
    "                format_value(sigma_mean, lamax, base, '3.1f'), format_value(sigma_ep, ep_min, 0, '3.0f'),\n",
    "                format_value(rot_mean, lamax, base, '3.1f'), format_value(rot_ep, ep_min, 0, '3.0f'),\n",
    "                format_value(eig_mean, lamax, base, '3.1f'), format_value(eig_ep, ep_min, 0, '3.0f')]\n",
    "        data_rows.append((k, n, ' & '.join(row)))\n",
    "\n",
    "table = ' \\\\\\\\ \\n'.join(rows + [r for _, _, r in sorted(data_rows)])\n",
    "print(table)"
   ]
  },
  {
   "cell_type": "code",
   "execution_count": null,
   "metadata": {},
   "outputs": [],
   "source": []
  }
 ],
 "metadata": {
  "kernelspec": {
   "display_name": "pyenv",
   "language": "python",
   "name": "python3"
  },
  "language_info": {
   "codemirror_mode": {
    "name": "ipython",
    "version": 3
   },
   "file_extension": ".py",
   "mimetype": "text/x-python",
   "name": "python",
   "nbconvert_exporter": "python",
   "pygments_lexer": "ipython3",
   "version": "3.8.10"
  },
  "orig_nbformat": 4
 },
 "nbformat": 4,
 "nbformat_minor": 2
}
